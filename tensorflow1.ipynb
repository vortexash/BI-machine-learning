{
  "nbformat": 4,
  "nbformat_minor": 0,
  "metadata": {
    "colab": {
      "name": "Untitled4.ipynb",
      "version": "0.3.2",
      "provenance": [],
      "include_colab_link": true
    },
    "kernelspec": {
      "name": "python3",
      "display_name": "Python 3"
    }
  },
  "cells": [
    {
      "cell_type": "markdown",
      "metadata": {
        "id": "view-in-github",
        "colab_type": "text"
      },
      "source": [
        "<a href=\"https://colab.research.google.com/github/vortexash/BI-machine-learning/blob/master/tensorflow1.ipynb\" target=\"_parent\"><img src=\"https://colab.research.google.com/assets/colab-badge.svg\" alt=\"Open In Colab\"/></a>"
      ]
    },
    {
      "cell_type": "markdown",
      "metadata": {
        "id": "ZWLD6d9GpRWq",
        "colab_type": "text"
      },
      "source": [
        "Regression"
      ]
    },
    {
      "cell_type": "code",
      "metadata": {
        "id": "iktj6ASxpSrZ",
        "colab_type": "code",
        "colab": {}
      },
      "source": [
        "import sklearn\n",
        "import tensorflow as tf\n",
        "import matplotlib.pyplot as plot"
      ],
      "execution_count": 0,
      "outputs": []
    },
    {
      "cell_type": "code",
      "metadata": {
        "id": "VrC1AjkBpX1u",
        "colab_type": "code",
        "colab": {}
      },
      "source": [
        "train_X=[[1],[2],[3],[4],[5],[6],[7],[8],[9]]"
      ],
      "execution_count": 0,
      "outputs": []
    },
    {
      "cell_type": "code",
      "metadata": {
        "id": "a7vttT5TpiSW",
        "colab_type": "code",
        "colab": {}
      },
      "source": [
        "train_y=[1,4,9,16,25,36,49,64,81]"
      ],
      "execution_count": 0,
      "outputs": []
    },
    {
      "cell_type": "code",
      "metadata": {
        "id": "Ctswy6WCprLW",
        "colab_type": "code",
        "colab": {}
      },
      "source": [
        "from sklearn.linear_model import LinearRegression\n",
        "from sklearn import tree"
      ],
      "execution_count": 0,
      "outputs": []
    },
    {
      "cell_type": "code",
      "metadata": {
        "id": "patxZm33pwxl",
        "colab_type": "code",
        "colab": {
          "base_uri": "https://localhost:8080/",
          "height": 127
        },
        "outputId": "b3a5f044-b8c3-4b7d-d57d-77347b691934"
      },
      "source": [
        "reg1= LinearRegression()\n",
        "reg1.fit(train_X ,train_y)\n",
        "reg2=tree.DecisionTreeRegressor()\n",
        "reg2.fit(train_X ,train_y)"
      ],
      "execution_count": 15,
      "outputs": [
        {
          "output_type": "execute_result",
          "data": {
            "text/plain": [
              "DecisionTreeRegressor(criterion='mse', max_depth=None, max_features=None,\n",
              "                      max_leaf_nodes=None, min_impurity_decrease=0.0,\n",
              "                      min_impurity_split=None, min_samples_leaf=1,\n",
              "                      min_samples_split=2, min_weight_fraction_leaf=0.0,\n",
              "                      presort=False, random_state=None, splitter='best')"
            ]
          },
          "metadata": {
            "tags": []
          },
          "execution_count": 15
        }
      ]
    },
    {
      "cell_type": "code",
      "metadata": {
        "id": "1BRyXT0Cp64G",
        "colab_type": "code",
        "colab": {
          "base_uri": "https://localhost:8080/",
          "height": 286
        },
        "outputId": "cd338e5e-2c18-4c5d-b851-d49b87a39ec8"
      },
      "source": [
        "plot.scatter(train_X,train_y,color='blue')\n",
        "plot.plot(train_X,reg1.predict(train_X),color='red')"
      ],
      "execution_count": 9,
      "outputs": [
        {
          "output_type": "execute_result",
          "data": {
            "text/plain": [
              "[<matplotlib.lines.Line2D at 0x7fe168b09c88>]"
            ]
          },
          "metadata": {
            "tags": []
          },
          "execution_count": 9
        },
        {
          "output_type": "display_data",
          "data": {
            "image/png": "[encoded data removed]",
            "text/plain": [
              "<Figure size 432x288 with 1 Axes>"
            ]
          },
          "metadata": {
            "tags": []
          }
        }
      ]
    },
    {
      "cell_type": "code",
      "metadata": {
        "id": "xugrgfUNqReo",
        "colab_type": "code",
        "colab": {
          "base_uri": "https://localhost:8080/",
          "height": 34
        },
        "outputId": "43ce5e73-4c79-4a23-b467-b83794f61690"
      },
      "source": [
        "reg2.predict([[7]])"
      ],
      "execution_count": 17,
      "outputs": [
        {
          "output_type": "execute_result",
          "data": {
            "text/plain": [
              "array([49.])"
            ]
          },
          "metadata": {
            "tags": []
          },
          "execution_count": 17
        }
      ]
    },
    {
      "cell_type": "code",
      "metadata": {
        "id": "kDQUWrwTqrFs",
        "colab_type": "code",
        "colab": {}
      },
      "source": [
        ""
      ],
      "execution_count": 0,
      "outputs": []
    },
    {
      "cell_type": "markdown",
      "metadata": {
        "id": "3Nb9ncWpsI6X",
        "colab_type": "text"
      },
      "source": [
        "Tensorflow based implementation"
      ]
    },
    {
      "cell_type": "code",
      "metadata": {
        "id": "y5kPmEJfsNl3",
        "colab_type": "code",
        "colab": {}
      },
      "source": [
        "X=tf.placeholder(tf.float32)\n",
        "Y=tf.placeholder(tf.float32)"
      ],
      "execution_count": 0,
      "outputs": []
    },
    {
      "cell_type": "code",
      "metadata": {
        "id": "igdazeuQsV7j",
        "colab_type": "code",
        "colab": {}
      },
      "source": [
        "# Create weights and bias\n",
        "W =tf.Variable(tf.random_normal(shape=(1,)),name='weight')\n",
        "b=tf.Variable(tf.random_normal(shape=(1,)),name='bias')"
      ],
      "execution_count": 0,
      "outputs": []
    },
    {
      "cell_type": "code",
      "metadata": {
        "id": "Aet4-qmPsxBo",
        "colab_type": "code",
        "colab": {}
      },
      "source": [
        "learning_rate = 0.1\n",
        "epochs =40\n",
        "display_step =1"
      ],
      "execution_count": 0,
      "outputs": []
    },
    {
      "cell_type": "code",
      "metadata": {
        "id": "uNGl9ZqBs--c",
        "colab_type": "code",
        "colab": {}
      },
      "source": [
        "pred = tf.add(tf.multiply(X,W),b)"
      ],
      "execution_count": 0,
      "outputs": []
    },
    {
      "cell_type": "code",
      "metadata": {
        "id": "nJHINXGDtHmt",
        "colab_type": "code",
        "colab": {}
      },
      "source": [
        "num_records=len(train_X)"
      ],
      "execution_count": 0,
      "outputs": []
    },
    {
      "cell_type": "code",
      "metadata": {
        "id": "eusCVFLQ3zKn",
        "colab_type": "code",
        "colab": {}
      },
      "source": [
        ""
      ],
      "execution_count": 0,
      "outputs": []
    },
    {
      "cell_type": "code",
      "metadata": {
        "id": "en9dwOUztMw7",
        "colab_type": "code",
        "colab": {}
      },
      "source": [
        "# Define cost function\n",
        "cost =tf.reduce_sum(tf.pow(pred-Y,2))/(2*num_records)\n",
        "# Have optimiser\n",
        "optimizer =tf.train.GradientDescentOptimizer(learning_rate).minimize(cost)"
      ],
      "execution_count": 0,
      "outputs": []
    },
    {
      "cell_type": "code",
      "metadata": {
        "id": "K5YnkcEst2-s",
        "colab_type": "code",
        "colab": {
          "base_uri": "https://localhost:8080/",
          "height": 1017
        },
        "outputId": "cf2539f2-54f1-481f-90e9-12ecb9eb303e"
      },
      "source": [
        "% pylab inline\n",
        "init =tf.global_variables_initializer()\n",
        "with tf.Session() as sess:\n",
        "  sess.run(init)\n",
        "  for epoch in range(epochs):\n",
        "    for(x,y) in zip(train_X,train_y):\n",
        "      sess.run(optimizer,feed_dict={X:x,Y:y})\n",
        "    if(epoch+1) % display_step ==0:\n",
        "      c =sess.run(cost,feed_dict={X:train_X,Y:train_y})\n",
        "      print(\"Epochs:\",'%d'%(epoch+1),'cost=','{:.5f}'.format(c))\n",
        "  print('completed model training')\n",
        "  training_cost = sess.run(cost,feed_dict={X:train_X,Y:train_y})\n",
        "  print('Cost post training =',training_cost,'W=',sess.run(W),'bias=',sess.run(b))\n",
        "  plt.plot(train_X,train_y,'bo')\n",
        "  plt.plot(train_X,sess.run(W)*train_X+sess.run(b),'r')\n",
        "  plt.plot(train_X,reg1.predict(train_X),color='brown')\n",
        "  plt.plot(train_X,reg2.predict(train_X),color='green')\n",
        "  plt.show()\n",
        "  print(sess.run(W)*[[11]]+sess.run(b))"
      ],
      "execution_count": 76,
      "outputs": [
        {
          "output_type": "stream",
          "text": [
            "Populating the interactive namespace from numpy and matplotlib\n",
            "Epochs: 1 cost= 6208.77295\n",
            "Epochs: 2 cost= 6250.49658\n",
            "Epochs: 3 cost= 6255.71777\n",
            "Epochs: 4 cost= 6261.18457\n",
            "Epochs: 5 cost= 6266.98438\n",
            "Epochs: 6 cost= 6273.09668\n",
            "Epochs: 7 cost= 6279.49512\n",
            "Epochs: 8 cost= 6286.15479\n",
            "Epochs: 9 cost= 6293.06104\n",
            "Epochs: 10 cost= 6300.18750\n",
            "Epochs: 11 cost= 6307.51660\n",
            "Epochs: 12 cost= 6315.03271\n",
            "Epochs: 13 cost= 6322.71387\n",
            "Epochs: 14 cost= 6330.54639\n",
            "Epochs: 15 cost= 6338.51611\n",
            "Epochs: 16 cost= 6346.60400\n",
            "Epochs: 17 cost= 6354.80029\n",
            "Epochs: 18 cost= 6363.09180\n",
            "Epochs: 19 cost= 6371.46143\n",
            "Epochs: 20 cost= 6379.90088\n",
            "Epochs: 21 cost= 6388.39893\n",
            "Epochs: 22 cost= 6396.94629\n",
            "Epochs: 23 cost= 6405.52881\n",
            "Epochs: 24 cost= 6414.14160\n",
            "Epochs: 25 cost= 6422.77197\n",
            "Epochs: 26 cost= 6431.41406\n",
            "Epochs: 27 cost= 6440.06104\n",
            "Epochs: 28 cost= 6448.70312\n",
            "Epochs: 29 cost= 6457.33447\n",
            "Epochs: 30 cost= 6465.94873\n",
            "Epochs: 31 cost= 6474.53809\n",
            "Epochs: 32 cost= 6483.09961\n",
            "Epochs: 33 cost= 6491.62695\n",
            "Epochs: 34 cost= 6500.11230\n",
            "Epochs: 35 cost= 6508.55664\n",
            "Epochs: 36 cost= 6516.94971\n",
            "Epochs: 37 cost= 6525.29297\n",
            "Epochs: 38 cost= 6533.57861\n",
            "Epochs: 39 cost= 6541.80518\n",
            "Epochs: 40 cost= 6549.96729\n",
            "completed model training\n",
            "Cost post training = 6549.9673 W= [10.230223] bias= [-11.93839]\n"
          ],
          "name": "stdout"
        },
        {
          "output_type": "display_data",
          "data": {
            "image/png": "[encoded data removed]",
            "text/plain": [
              "<Figure size 432x288 with 1 Axes>"
            ]
          },
          "metadata": {
            "tags": []
          }
        },
        {
          "output_type": "stream",
          "text": [
            "[[100.59405994]]\n"
          ],
          "name": "stdout"
        }
      ]
    },
    {
      "cell_type": "code",
      "metadata": {
        "id": "_avS2jb8v6lb",
        "colab_type": "code",
        "colab": {
          "base_uri": "https://localhost:8080/",
          "height": 34
        },
        "outputId": "5adc214b-d048-401b-8ca1-333016475669"
      },
      "source": [
        "print(zip(train_X,train_y))"
      ],
      "execution_count": 66,
      "outputs": [
        {
          "output_type": "stream",
          "text": [
            "<zip object at 0x7fe15ec247c8>\n"
          ],
          "name": "stdout"
        }
      ]
    },
    {
      "cell_type": "code",
      "metadata": {
        "id": "hr8jEvBc22eu",
        "colab_type": "code",
        "colab": {}
      },
      "source": [
        ""
      ],
      "execution_count": 0,
      "outputs": []
    }
  ]
}