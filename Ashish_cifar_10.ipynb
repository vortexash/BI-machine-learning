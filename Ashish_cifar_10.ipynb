{
  "nbformat": 4,
  "nbformat_minor": 0,
  "metadata": {
    "kernelspec": {
      "name": "python3",
      "display_name": "Python 3"
    },
    "language_info": {
      "codemirror_mode": {
        "name": "ipython",
        "version": 3
      },
      "file_extension": ".py",
      "mimetype": "text/x-python",
      "name": "python",
      "nbconvert_exporter": "python",
      "pygments_lexer": "ipython3",
      "version": "3.6.7"
    },
    "colab": {
      "name": "Ashish cifar-10.ipynb",
      "version": "0.3.2",
      "provenance": [],
      "collapsed_sections": [],
      "include_colab_link": true
    },
    "accelerator": "GPU"
  },
  "cells": [
    {
      "cell_type": "markdown",
      "metadata": {
        "id": "view-in-github",
        "colab_type": "text"
      },
      "source": [
        "<a href=\"https://colab.research.google.com/github/vortexash/BI-machine-learning/blob/master/Ashish_cifar_10.ipynb\" target=\"_parent\"><img src=\"https://colab.research.google.com/assets/colab-badge.svg\" alt=\"Open In Colab\"/></a>"
      ]
    },
    {
      "cell_type": "code",
      "metadata": {
        "id": "A37vqHDkUh5R",
        "colab_type": "code",
        "colab": {}
      },
      "source": [
        "import numpy as np\n",
        "import pickle"
      ],
      "execution_count": 0,
      "outputs": []
    },
    {
      "cell_type": "code",
      "metadata": {
        "id": "QDEnyl9DQ2Ay",
        "colab_type": "code",
        "colab": {}
      },
      "source": [
        "import os\n"
      ],
      "execution_count": 0,
      "outputs": []
    },
    {
      "cell_type": "code",
      "metadata": {
        "id": "eo7nUOkEU3u6",
        "colab_type": "code",
        "outputId": "5028b9c2-e7e7-4a51-b331-732974309776",
        "colab": {
          "base_uri": "https://localhost:8080/",
          "height": 34
        }
      },
      "source": [
        "from google.colab import drive\n",
        "drive.mount('/content/drive')"
      ],
      "execution_count": 39,
      "outputs": [
        {
          "output_type": "stream",
          "text": [
            "Mounted at /content/drive\n"
          ],
          "name": "stdout"
        }
      ]
    },
    {
      "cell_type": "code",
      "metadata": {
        "id": "qsET82Ias9VG",
        "colab_type": "code",
        "colab": {
          "base_uri": "https://localhost:8080/",
          "height": 63
        },
        "outputId": "9fa569c6-2de1-4432-e069-c88c192aace7"
      },
      "source": [
        "ls"
      ],
      "execution_count": 40,
      "outputs": [
        {
          "output_type": "stream",
          "text": [
            "\u001b[0m\u001b[01;34mdrive\u001b[0m/  \u001b[01;34mgdrive\u001b[0m/  \u001b[01;34msample_data\u001b[0m/\n"
          ],
          "name": "stdout"
        }
      ]
    },
    {
      "cell_type": "code",
      "metadata": {
        "id": "FERQUoPkufzq",
        "colab_type": "code",
        "colab": {
          "base_uri": "https://localhost:8080/",
          "height": 34
        },
        "outputId": "9d86e58d-fac9-4ca4-ec96-7bc8392f16b4"
      },
      "source": [
        "cd /content/drive/My Drive/Colab Notebooks/cifar-10-batches-py"
      ],
      "execution_count": 41,
      "outputs": [
        {
          "output_type": "stream",
          "text": [
            "/content/drive/My Drive/Colab Notebooks/cifar-10-batches-py\n"
          ],
          "name": "stdout"
        }
      ]
    },
    {
      "cell_type": "code",
      "metadata": {
        "id": "MYym5ZFBUh5c",
        "colab_type": "code",
        "outputId": "b050a7fd-fc35-4224-9f26-e5329a331722",
        "colab": {
          "base_uri": "https://localhost:8080/",
          "height": 34
        }
      },
      "source": [
        "test_batch = pickle.load(open('test_batch', 'rb'), encoding='bytes')\n",
        "test_batch.keys()"
      ],
      "execution_count": 42,
      "outputs": [
        {
          "output_type": "execute_result",
          "data": {
            "text/plain": [
              "dict_keys([b'batch_label', b'labels', b'data', b'filenames'])"
            ]
          },
          "metadata": {
            "tags": []
          },
          "execution_count": 42
        }
      ]
    },
    {
      "cell_type": "code",
      "metadata": {
        "id": "MV-7VgLdUh5e",
        "colab_type": "code",
        "colab": {}
      },
      "source": [
        "def unpickle(file):\n",
        "    import pickle\n",
        "    with open(file, 'rb') as fo:\n",
        "        dict = pickle.load(fo, encoding='bytes')\n",
        "    return dict"
      ],
      "execution_count": 0,
      "outputs": []
    },
    {
      "cell_type": "code",
      "metadata": {
        "id": "wS2LXgU0Uh5g",
        "colab_type": "code",
        "colab": {}
      },
      "source": [
        "test_batch = unpickle('test_batch')"
      ],
      "execution_count": 0,
      "outputs": []
    },
    {
      "cell_type": "code",
      "metadata": {
        "id": "yzDyjJ0fUh5i",
        "colab_type": "code",
        "colab": {
          "base_uri": "https://localhost:8080/",
          "height": 34
        },
        "outputId": "36ff355f-4572-4516-bdbc-21ea92e1c804"
      },
      "source": [
        "test_batch.keys()"
      ],
      "execution_count": 45,
      "outputs": [
        {
          "output_type": "execute_result",
          "data": {
            "text/plain": [
              "dict_keys([b'batch_label', b'labels', b'data', b'filenames'])"
            ]
          },
          "metadata": {
            "tags": []
          },
          "execution_count": 45
        }
      ]
    },
    {
      "cell_type": "code",
      "metadata": {
        "id": "NR1dPGHWUh5m",
        "colab_type": "code",
        "colab": {
          "base_uri": "https://localhost:8080/",
          "height": 1000
        },
        "outputId": "a4bb5ba1-24e3-4594-96a1-26d16ce8c60c"
      },
      "source": [
        "test_batch[b'labels']"
      ],
      "execution_count": 46,
      "outputs": [
        {
          "output_type": "execute_result",
          "data": {
            "text/plain": [
              "[3,\n",
              " 8,\n",
              " 8,\n",
              " 0,\n",
              " 6,\n",
              " 6,\n",
              " 1,\n",
              " 6,\n",
              " 3,\n",
              " 1,\n",
              " 0,\n",
              " 9,\n",
              " 5,\n",
              " 7,\n",
              " 9,\n",
              " 8,\n",
              " 5,\n",
              " 7,\n",
              " 8,\n",
              " 6,\n",
              " 7,\n",
              " 0,\n",
              " 4,\n",
              " 9,\n",
              " 5,\n",
              " 2,\n",
              " 4,\n",
              " 0,\n",
              " 9,\n",
              " 6,\n",
              " 6,\n",
              " 5,\n",
              " 4,\n",
              " 5,\n",
              " 9,\n",
              " 2,\n",
              " 4,\n",
              " 1,\n",
              " 9,\n",
              " 5,\n",
              " 4,\n",
              " 6,\n",
              " 5,\n",
              " 6,\n",
              " 0,\n",
              " 9,\n",
              " 3,\n",
              " 9,\n",
              " 7,\n",
              " 6,\n",
              " 9,\n",
              " 8,\n",
              " 0,\n",
              " 3,\n",
              " 8,\n",
              " 8,\n",
              " 7,\n",
              " 7,\n",
              " 4,\n",
              " 6,\n",
              " 7,\n",
              " 3,\n",
              " 6,\n",
              " 3,\n",
              " 6,\n",
              " 2,\n",
              " 1,\n",
              " 2,\n",
              " 3,\n",
              " 7,\n",
              " 2,\n",
              " 6,\n",
              " 8,\n",
              " 8,\n",
              " 0,\n",
              " 2,\n",
              " 9,\n",
              " 3,\n",
              " 3,\n",
              " 8,\n",
              " 8,\n",
              " 1,\n",
              " 1,\n",
              " 7,\n",
              " 2,\n",
              " 5,\n",
              " 2,\n",
              " 7,\n",
              " 8,\n",
              " 9,\n",
              " 0,\n",
              " 3,\n",
              " 8,\n",
              " 6,\n",
              " 4,\n",
              " 6,\n",
              " 6,\n",
              " 0,\n",
              " 0,\n",
              " 7,\n",
              " 4,\n",
              " 5,\n",
              " 6,\n",
              " 3,\n",
              " 1,\n",
              " 1,\n",
              " 3,\n",
              " 6,\n",
              " 8,\n",
              " 7,\n",
              " 4,\n",
              " 0,\n",
              " 6,\n",
              " 2,\n",
              " 1,\n",
              " 3,\n",
              " 0,\n",
              " 4,\n",
              " 2,\n",
              " 7,\n",
              " 8,\n",
              " 3,\n",
              " 1,\n",
              " 2,\n",
              " 8,\n",
              " 0,\n",
              " 8,\n",
              " 3,\n",
              " 5,\n",
              " 2,\n",
              " 4,\n",
              " 1,\n",
              " 8,\n",
              " 9,\n",
              " 1,\n",
              " 2,\n",
              " 9,\n",
              " 7,\n",
              " 2,\n",
              " 9,\n",
              " 6,\n",
              " 5,\n",
              " 6,\n",
              " 3,\n",
              " 8,\n",
              " 7,\n",
              " 6,\n",
              " 2,\n",
              " 5,\n",
              " 2,\n",
              " 8,\n",
              " 9,\n",
              " 6,\n",
              " 0,\n",
              " 0,\n",
              " 5,\n",
              " 2,\n",
              " 9,\n",
              " 5,\n",
              " 4,\n",
              " 2,\n",
              " 1,\n",
              " 6,\n",
              " 6,\n",
              " 8,\n",
              " 4,\n",
              " 8,\n",
              " 4,\n",
              " 5,\n",
              " 0,\n",
              " 9,\n",
              " 9,\n",
              " 9,\n",
              " 8,\n",
              " 9,\n",
              " 9,\n",
              " 3,\n",
              " 7,\n",
              " 5,\n",
              " 0,\n",
              " 0,\n",
              " 5,\n",
              " 2,\n",
              " 2,\n",
              " 3,\n",
              " 8,\n",
              " 6,\n",
              " 3,\n",
              " 4,\n",
              " 0,\n",
              " 5,\n",
              " 8,\n",
              " 0,\n",
              " 1,\n",
              " 7,\n",
              " 2,\n",
              " 8,\n",
              " 8,\n",
              " 7,\n",
              " 8,\n",
              " 5,\n",
              " 1,\n",
              " 8,\n",
              " 7,\n",
              " 1,\n",
              " 3,\n",
              " 0,\n",
              " 5,\n",
              " 7,\n",
              " 9,\n",
              " 7,\n",
              " 4,\n",
              " 5,\n",
              " 9,\n",
              " 8,\n",
              " 0,\n",
              " 7,\n",
              " 9,\n",
              " 8,\n",
              " 2,\n",
              " 7,\n",
              " 6,\n",
              " 9,\n",
              " 4,\n",
              " 3,\n",
              " 9,\n",
              " 6,\n",
              " 4,\n",
              " 7,\n",
              " 6,\n",
              " 5,\n",
              " 1,\n",
              " 5,\n",
              " 8,\n",
              " 8,\n",
              " 0,\n",
              " 4,\n",
              " 0,\n",
              " 5,\n",
              " 5,\n",
              " 1,\n",
              " 1,\n",
              " 8,\n",
              " 9,\n",
              " 0,\n",
              " 3,\n",
              " 1,\n",
              " 9,\n",
              " 2,\n",
              " 2,\n",
              " 5,\n",
              " 3,\n",
              " 9,\n",
              " 9,\n",
              " 4,\n",
              " 0,\n",
              " 3,\n",
              " 0,\n",
              " 0,\n",
              " 9,\n",
              " 8,\n",
              " 1,\n",
              " 5,\n",
              " 7,\n",
              " 0,\n",
              " 8,\n",
              " 2,\n",
              " 4,\n",
              " 7,\n",
              " 0,\n",
              " 2,\n",
              " 3,\n",
              " 6,\n",
              " 3,\n",
              " 8,\n",
              " 5,\n",
              " 0,\n",
              " 3,\n",
              " 4,\n",
              " 3,\n",
              " 9,\n",
              " 0,\n",
              " 6,\n",
              " 1,\n",
              " 0,\n",
              " 9,\n",
              " 1,\n",
              " 0,\n",
              " 7,\n",
              " 9,\n",
              " 1,\n",
              " 2,\n",
              " 6,\n",
              " 9,\n",
              " 3,\n",
              " 4,\n",
              " 6,\n",
              " 0,\n",
              " 0,\n",
              " 6,\n",
              " 6,\n",
              " 6,\n",
              " 3,\n",
              " 2,\n",
              " 6,\n",
              " 1,\n",
              " 8,\n",
              " 2,\n",
              " 1,\n",
              " 6,\n",
              " 8,\n",
              " 6,\n",
              " 8,\n",
              " 0,\n",
              " 4,\n",
              " 0,\n",
              " 7,\n",
              " 7,\n",
              " 5,\n",
              " 5,\n",
              " 3,\n",
              " 5,\n",
              " 2,\n",
              " 3,\n",
              " 4,\n",
              " 1,\n",
              " 7,\n",
              " 5,\n",
              " 4,\n",
              " 6,\n",
              " 1,\n",
              " 9,\n",
              " 3,\n",
              " 6,\n",
              " 6,\n",
              " 9,\n",
              " 3,\n",
              " 8,\n",
              " 0,\n",
              " 7,\n",
              " 2,\n",
              " 6,\n",
              " 2,\n",
              " 5,\n",
              " 8,\n",
              " 5,\n",
              " 4,\n",
              " 6,\n",
              " 8,\n",
              " 9,\n",
              " 9,\n",
              " 1,\n",
              " 0,\n",
              " 2,\n",
              " 2,\n",
              " 7,\n",
              " 3,\n",
              " 2,\n",
              " 8,\n",
              " 0,\n",
              " 9,\n",
              " 5,\n",
              " 8,\n",
              " 1,\n",
              " 9,\n",
              " 4,\n",
              " 1,\n",
              " 3,\n",
              " 8,\n",
              " 1,\n",
              " 4,\n",
              " 7,\n",
              " 9,\n",
              " 4,\n",
              " 2,\n",
              " 7,\n",
              " 0,\n",
              " 7,\n",
              " 0,\n",
              " 6,\n",
              " 6,\n",
              " 9,\n",
              " 0,\n",
              " 9,\n",
              " 2,\n",
              " 8,\n",
              " 7,\n",
              " 2,\n",
              " 2,\n",
              " 5,\n",
              " 1,\n",
              " 2,\n",
              " 6,\n",
              " 2,\n",
              " 9,\n",
              " 6,\n",
              " 2,\n",
              " 3,\n",
              " 0,\n",
              " 3,\n",
              " 9,\n",
              " 8,\n",
              " 7,\n",
              " 8,\n",
              " 8,\n",
              " 4,\n",
              " 0,\n",
              " 1,\n",
              " 8,\n",
              " 2,\n",
              " 7,\n",
              " 9,\n",
              " 3,\n",
              " 6,\n",
              " 1,\n",
              " 9,\n",
              " 0,\n",
              " 7,\n",
              " 3,\n",
              " 7,\n",
              " 4,\n",
              " 5,\n",
              " 0,\n",
              " 0,\n",
              " 2,\n",
              " 9,\n",
              " 3,\n",
              " 4,\n",
              " 0,\n",
              " 6,\n",
              " 2,\n",
              " 5,\n",
              " 3,\n",
              " 7,\n",
              " 3,\n",
              " 7,\n",
              " 2,\n",
              " 5,\n",
              " 3,\n",
              " 1,\n",
              " 1,\n",
              " 4,\n",
              " 9,\n",
              " 9,\n",
              " 5,\n",
              " 7,\n",
              " 5,\n",
              " 0,\n",
              " 2,\n",
              " 2,\n",
              " 2,\n",
              " 9,\n",
              " 7,\n",
              " 3,\n",
              " 9,\n",
              " 4,\n",
              " 3,\n",
              " 5,\n",
              " 4,\n",
              " 6,\n",
              " 5,\n",
              " 6,\n",
              " 1,\n",
              " 4,\n",
              " 3,\n",
              " 4,\n",
              " 4,\n",
              " 3,\n",
              " 7,\n",
              " 8,\n",
              " 3,\n",
              " 7,\n",
              " 8,\n",
              " 0,\n",
              " 5,\n",
              " 7,\n",
              " 6,\n",
              " 0,\n",
              " 5,\n",
              " 4,\n",
              " 8,\n",
              " 6,\n",
              " 8,\n",
              " 5,\n",
              " 5,\n",
              " 9,\n",
              " 9,\n",
              " 9,\n",
              " 5,\n",
              " 0,\n",
              " 1,\n",
              " 0,\n",
              " 8,\n",
              " 1,\n",
              " 1,\n",
              " 8,\n",
              " 0,\n",
              " 2,\n",
              " 2,\n",
              " 0,\n",
              " 4,\n",
              " 6,\n",
              " 5,\n",
              " 4,\n",
              " 9,\n",
              " 4,\n",
              " 7,\n",
              " 9,\n",
              " 9,\n",
              " 4,\n",
              " 5,\n",
              " 6,\n",
              " 6,\n",
              " 1,\n",
              " 5,\n",
              " 3,\n",
              " 8,\n",
              " 9,\n",
              " 5,\n",
              " 8,\n",
              " 5,\n",
              " 7,\n",
              " 0,\n",
              " 7,\n",
              " 0,\n",
              " 5,\n",
              " 0,\n",
              " 0,\n",
              " 4,\n",
              " 6,\n",
              " 9,\n",
              " 0,\n",
              " 9,\n",
              " 5,\n",
              " 6,\n",
              " 6,\n",
              " 6,\n",
              " 2,\n",
              " 9,\n",
              " 0,\n",
              " 1,\n",
              " 7,\n",
              " 6,\n",
              " 7,\n",
              " 5,\n",
              " 9,\n",
              " 1,\n",
              " 6,\n",
              " 2,\n",
              " 5,\n",
              " 5,\n",
              " 5,\n",
              " 8,\n",
              " 5,\n",
              " 9,\n",
              " 4,\n",
              " 6,\n",
              " 4,\n",
              " 3,\n",
              " 2,\n",
              " 0,\n",
              " 7,\n",
              " 6,\n",
              " 2,\n",
              " 2,\n",
              " 3,\n",
              " 9,\n",
              " 7,\n",
              " 9,\n",
              " 2,\n",
              " 6,\n",
              " 7,\n",
              " 1,\n",
              " 3,\n",
              " 6,\n",
              " 6,\n",
              " 8,\n",
              " 9,\n",
              " 7,\n",
              " 5,\n",
              " 4,\n",
              " 0,\n",
              " 8,\n",
              " 4,\n",
              " 0,\n",
              " 9,\n",
              " 3,\n",
              " 4,\n",
              " 8,\n",
              " 9,\n",
              " 6,\n",
              " 9,\n",
              " 2,\n",
              " 6,\n",
              " 1,\n",
              " 4,\n",
              " 7,\n",
              " 3,\n",
              " 5,\n",
              " 3,\n",
              " 8,\n",
              " 5,\n",
              " 0,\n",
              " 2,\n",
              " 1,\n",
              " 6,\n",
              " 4,\n",
              " 3,\n",
              " 3,\n",
              " 9,\n",
              " 6,\n",
              " 9,\n",
              " 8,\n",
              " 8,\n",
              " 5,\n",
              " 8,\n",
              " 6,\n",
              " 6,\n",
              " 2,\n",
              " 1,\n",
              " 7,\n",
              " 7,\n",
              " 1,\n",
              " 2,\n",
              " 7,\n",
              " 9,\n",
              " 9,\n",
              " 4,\n",
              " 4,\n",
              " 1,\n",
              " 2,\n",
              " 5,\n",
              " 6,\n",
              " 8,\n",
              " 7,\n",
              " 6,\n",
              " 8,\n",
              " 3,\n",
              " 0,\n",
              " 5,\n",
              " 5,\n",
              " 3,\n",
              " 0,\n",
              " 7,\n",
              " 9,\n",
              " 1,\n",
              " 3,\n",
              " 4,\n",
              " 4,\n",
              " 5,\n",
              " 3,\n",
              " 9,\n",
              " 5,\n",
              " 6,\n",
              " 9,\n",
              " 2,\n",
              " 1,\n",
              " 1,\n",
              " 4,\n",
              " 1,\n",
              " 9,\n",
              " 4,\n",
              " 7,\n",
              " 6,\n",
              " 3,\n",
              " 8,\n",
              " 9,\n",
              " 0,\n",
              " 1,\n",
              " 3,\n",
              " 6,\n",
              " 3,\n",
              " 6,\n",
              " 3,\n",
              " 2,\n",
              " 0,\n",
              " 3,\n",
              " 1,\n",
              " 0,\n",
              " 5,\n",
              " 9,\n",
              " 6,\n",
              " 4,\n",
              " 8,\n",
              " 9,\n",
              " 6,\n",
              " 9,\n",
              " 6,\n",
              " 3,\n",
              " 0,\n",
              " 3,\n",
              " 2,\n",
              " 2,\n",
              " 7,\n",
              " 8,\n",
              " 3,\n",
              " 8,\n",
              " 2,\n",
              " 7,\n",
              " 5,\n",
              " 7,\n",
              " 2,\n",
              " 4,\n",
              " 8,\n",
              " 7,\n",
              " 4,\n",
              " 2,\n",
              " 9,\n",
              " 8,\n",
              " 8,\n",
              " 6,\n",
              " 8,\n",
              " 8,\n",
              " 7,\n",
              " 4,\n",
              " 3,\n",
              " 3,\n",
              " 8,\n",
              " 4,\n",
              " 9,\n",
              " 4,\n",
              " 8,\n",
              " 8,\n",
              " 1,\n",
              " 8,\n",
              " 2,\n",
              " 1,\n",
              " 3,\n",
              " 6,\n",
              " 5,\n",
              " 4,\n",
              " 2,\n",
              " 7,\n",
              " 9,\n",
              " 9,\n",
              " 4,\n",
              " 1,\n",
              " 4,\n",
              " 1,\n",
              " 3,\n",
              " 2,\n",
              " 7,\n",
              " 0,\n",
              " 7,\n",
              " 9,\n",
              " 7,\n",
              " 6,\n",
              " 6,\n",
              " 2,\n",
              " 5,\n",
              " 9,\n",
              " 2,\n",
              " 9,\n",
              " 1,\n",
              " 2,\n",
              " 2,\n",
              " 6,\n",
              " 8,\n",
              " 2,\n",
              " 1,\n",
              " 3,\n",
              " 6,\n",
              " 6,\n",
              " 0,\n",
              " 1,\n",
              " 2,\n",
              " 7,\n",
              " 0,\n",
              " 5,\n",
              " 4,\n",
              " 6,\n",
              " 1,\n",
              " 6,\n",
              " 4,\n",
              " 0,\n",
              " 2,\n",
              " 2,\n",
              " 6,\n",
              " 0,\n",
              " 5,\n",
              " 9,\n",
              " 1,\n",
              " 7,\n",
              " 6,\n",
              " 7,\n",
              " 0,\n",
              " 3,\n",
              " 9,\n",
              " 6,\n",
              " 8,\n",
              " 3,\n",
              " 0,\n",
              " 3,\n",
              " 4,\n",
              " 7,\n",
              " 7,\n",
              " 1,\n",
              " 4,\n",
              " 7,\n",
              " 2,\n",
              " 7,\n",
              " 1,\n",
              " 4,\n",
              " 7,\n",
              " 4,\n",
              " 4,\n",
              " 8,\n",
              " 4,\n",
              " 7,\n",
              " 7,\n",
              " 5,\n",
              " 3,\n",
              " 7,\n",
              " 2,\n",
              " 0,\n",
              " 8,\n",
              " 9,\n",
              " 5,\n",
              " 8,\n",
              " 3,\n",
              " 6,\n",
              " 2,\n",
              " 0,\n",
              " 8,\n",
              " 7,\n",
              " 3,\n",
              " 7,\n",
              " 6,\n",
              " 5,\n",
              " 3,\n",
              " 1,\n",
              " 3,\n",
              " 2,\n",
              " 2,\n",
              " 5,\n",
              " 4,\n",
              " 1,\n",
              " 2,\n",
              " 9,\n",
              " 2,\n",
              " 7,\n",
              " 0,\n",
              " 7,\n",
              " 2,\n",
              " 1,\n",
              " 3,\n",
              " 2,\n",
              " 0,\n",
              " 2,\n",
              " 4,\n",
              " 7,\n",
              " 9,\n",
              " 8,\n",
              " 9,\n",
              " 0,\n",
              " 7,\n",
              " 7,\n",
              " 0,\n",
              " 7,\n",
              " 8,\n",
              " 4,\n",
              " 6,\n",
              " 3,\n",
              " 3,\n",
              " 0,\n",
              " 1,\n",
              " 3,\n",
              " 7,\n",
              " 0,\n",
              " 1,\n",
              " 3,\n",
              " 1,\n",
              " 4,\n",
              " 2,\n",
              " 3,\n",
              " 8,\n",
              " 4,\n",
              " 2,\n",
              " 3,\n",
              " 7,\n",
              " 8,\n",
              " 4,\n",
              " 3,\n",
              " 0,\n",
              " 9,\n",
              " 0,\n",
              " 0,\n",
              " 1,\n",
              " 0,\n",
              " 4,\n",
              " 4,\n",
              " 6,\n",
              " 7,\n",
              " 6,\n",
              " 1,\n",
              " 1,\n",
              " 3,\n",
              " 7,\n",
              " 3,\n",
              " 5,\n",
              " 2,\n",
              " 6,\n",
              " 6,\n",
              " 5,\n",
              " 8,\n",
              " 7,\n",
              " 1,\n",
              " 6,\n",
              " 8,\n",
              " 8,\n",
              " 5,\n",
              " 3,\n",
              " 0,\n",
              " 4,\n",
              " 0,\n",
              " 1,\n",
              " 3,\n",
              " 8,\n",
              " 8,\n",
              " 0,\n",
              " 6,\n",
              " 9,\n",
              " 9,\n",
              " 9,\n",
              " 5,\n",
              " 5,\n",
              " 8,\n",
              " 6,\n",
              " 0,\n",
              " 0,\n",
              " 4,\n",
              " 2,\n",
              " 3,\n",
              " 2,\n",
              " 7,\n",
              " 2,\n",
              " 2,\n",
              " 5,\n",
              " 9,\n",
              " 8,\n",
              " 9,\n",
              " 1,\n",
              " 7,\n",
              " 4,\n",
              " 0,\n",
              " 3,\n",
              " 0,\n",
              " 1,\n",
              " 3,\n",
              " 8,\n",
              " 3,\n",
              " 9,\n",
              " 6,\n",
              " 1,\n",
              " 4,\n",
              " 7,\n",
              " 0,\n",
              " 3,\n",
              " 7,\n",
              " 8,\n",
              " 9,\n",
              " 1,\n",
              " 1,\n",
              " 6,\n",
              " 6,\n",
              " 6,\n",
              " 6,\n",
              " 9,\n",
              " 1,\n",
              " 9,\n",
              " 9,\n",
              " 4,\n",
              " 2,\n",
              " 1,\n",
              " 7,\n",
              " 0,\n",
              " 6,\n",
              " 8,\n",
              " 1,\n",
              " 9,\n",
              " 2,\n",
              " 9,\n",
              " 0,\n",
              " 4,\n",
              " 7,\n",
              " 8,\n",
              " 3,\n",
              " 1,\n",
              " 2,\n",
              " 0,\n",
              " 1,\n",
              " 5,\n",
              " 8,\n",
              " 4,\n",
              " 6,\n",
              " 3,\n",
              " 8,\n",
              " 1,\n",
              " 3,\n",
              " 8,\n",
              " ...]"
            ]
          },
          "metadata": {
            "tags": []
          },
          "execution_count": 46
        }
      ]
    },
    {
      "cell_type": "code",
      "metadata": {
        "id": "kn2BsqejUh5p",
        "colab_type": "code",
        "colab": {
          "base_uri": "https://localhost:8080/",
          "height": 34
        },
        "outputId": "9c6b1b8c-e9af-4417-9446-f43214d5b837"
      },
      "source": [
        "test_batch[b'data'].shape"
      ],
      "execution_count": 47,
      "outputs": [
        {
          "output_type": "execute_result",
          "data": {
            "text/plain": [
              "(10000, 3072)"
            ]
          },
          "metadata": {
            "tags": []
          },
          "execution_count": 47
        }
      ]
    },
    {
      "cell_type": "code",
      "metadata": {
        "id": "e-Wb-avcUh5r",
        "colab_type": "code",
        "colab": {}
      },
      "source": [
        "# In color image every pixel has 3 numbers for RED. BLUE & GREEN "
      ],
      "execution_count": 0,
      "outputs": []
    },
    {
      "cell_type": "code",
      "metadata": {
        "id": "lj_r3uCNUh5s",
        "colab_type": "code",
        "colab": {}
      },
      "source": [
        "import matplotlib.pyplot as plt"
      ],
      "execution_count": 0,
      "outputs": []
    },
    {
      "cell_type": "code",
      "metadata": {
        "id": "Hom4-OQzUh5u",
        "colab_type": "code",
        "colab": {
          "base_uri": "https://localhost:8080/",
          "height": 286
        },
        "outputId": "12d7c60a-942f-46b3-9ba2-b172e903da21"
      },
      "source": [
        "plt.imshow(test_batch[b'data'][1].reshape(32, 32, 3))"
      ],
      "execution_count": 50,
      "outputs": [
        {
          "output_type": "execute_result",
          "data": {
            "text/plain": [
              "<matplotlib.image.AxesImage at 0x7f242f6ab160>"
            ]
          },
          "metadata": {
            "tags": []
          },
          "execution_count": 50
        },
        {
          "output_type": "display_data",
          "data": {
            "image/png": "[encoded data removed]",
            "text/plain": [
              "<Figure size 432x288 with 1 Axes>"
            ]
          },
          "metadata": {
            "tags": []
          }
        }
      ]
    },
    {
      "cell_type": "code",
      "metadata": {
        "id": "AZNHqzvaUh5w",
        "colab_type": "code",
        "colab": {}
      },
      "source": [
        "data_r = test_batch[b'data'][:, :1024].reshape(-1, 32, 32)\n",
        "data_g = test_batch[b'data'][:, 1024:2*1024].reshape(-1, 32, 32)\n",
        "data_b = test_batch[b'data'][:, 2*1024:].reshape(-1, 32, 32)"
      ],
      "execution_count": 0,
      "outputs": []
    },
    {
      "cell_type": "code",
      "metadata": {
        "id": "L-kQjZH-Uh51",
        "colab_type": "code",
        "colab": {
          "base_uri": "https://localhost:8080/",
          "height": 34
        },
        "outputId": "601fe0ee-3401-433f-9aca-ab21b9ba58bd"
      },
      "source": [
        "test_batch[b'data'].shape"
      ],
      "execution_count": 53,
      "outputs": [
        {
          "output_type": "execute_result",
          "data": {
            "text/plain": [
              "(10000, 3072)"
            ]
          },
          "metadata": {
            "tags": []
          },
          "execution_count": 53
        }
      ]
    },
    {
      "cell_type": "code",
      "metadata": {
        "id": "JLB5D6XmUh54",
        "colab_type": "code",
        "colab": {}
      },
      "source": [
        "viewable_images = np.stack([data_r, data_g, data_b], axis=-1)"
      ],
      "execution_count": 0,
      "outputs": []
    },
    {
      "cell_type": "code",
      "metadata": {
        "id": "4mRMWcxAUh56",
        "colab_type": "code",
        "colab": {
          "base_uri": "https://localhost:8080/",
          "height": 286
        },
        "outputId": "be147fe9-f70d-4c4d-9f29-03ab18658951"
      },
      "source": [
        "plt.imshow(viewable_images[2])"
      ],
      "execution_count": 55,
      "outputs": [
        {
          "output_type": "execute_result",
          "data": {
            "text/plain": [
              "<matplotlib.image.AxesImage at 0x7f242ce36a20>"
            ]
          },
          "metadata": {
            "tags": []
          },
          "execution_count": 55
        },
        {
          "output_type": "display_data",
          "data": {
            "image/png": "[encoded data removed]",
            "text/plain": [
              "<Figure size 432x288 with 1 Axes>"
            ]
          },
          "metadata": {
            "tags": []
          }
        }
      ]
    },
    {
      "cell_type": "code",
      "metadata": {
        "id": "OafXxZHqUh58",
        "colab_type": "code",
        "colab": {
          "base_uri": "https://localhost:8080/",
          "height": 34
        },
        "outputId": "5d67848f-eb82-4490-d380-a09e4dd223b4"
      },
      "source": [
        "viewable_images.shape"
      ],
      "execution_count": 56,
      "outputs": [
        {
          "output_type": "execute_result",
          "data": {
            "text/plain": [
              "(10000, 32, 32, 3)"
            ]
          },
          "metadata": {
            "tags": []
          },
          "execution_count": 56
        }
      ]
    },
    {
      "cell_type": "code",
      "metadata": {
        "id": "hQoaLkYuUh59",
        "colab_type": "code",
        "colab": {
          "base_uri": "https://localhost:8080/",
          "height": 34
        },
        "outputId": "3e79ef4e-78b4-4b83-f742-b758089a33bf"
      },
      "source": [
        "labels = np.array(test_batch[b'labels'])\n",
        "labels.shape"
      ],
      "execution_count": 57,
      "outputs": [
        {
          "output_type": "execute_result",
          "data": {
            "text/plain": [
              "(10000,)"
            ]
          },
          "metadata": {
            "tags": []
          },
          "execution_count": 57
        }
      ]
    },
    {
      "cell_type": "code",
      "metadata": {
        "id": "ZrY8WL4FUh5_",
        "colab_type": "code",
        "colab": {}
      },
      "source": [
        "from sklearn.model_selection import train_test_split"
      ],
      "execution_count": 0,
      "outputs": []
    },
    {
      "cell_type": "code",
      "metadata": {
        "id": "CEkXFyNRUh6A",
        "colab_type": "code",
        "colab": {}
      },
      "source": [
        "train_image, test_image, train_labels, test_labels = train_test_split(test_batch[b'data'], labels)"
      ],
      "execution_count": 0,
      "outputs": []
    },
    {
      "cell_type": "code",
      "metadata": {
        "id": "ugC6LKXtUh6B",
        "colab_type": "code",
        "colab": {
          "base_uri": "https://localhost:8080/",
          "height": 34
        },
        "outputId": "a3fc2db1-c3f1-48b0-83dc-4ed7ac43cd0e"
      },
      "source": [
        "test_labels.shape"
      ],
      "execution_count": 60,
      "outputs": [
        {
          "output_type": "execute_result",
          "data": {
            "text/plain": [
              "(2500,)"
            ]
          },
          "metadata": {
            "tags": []
          },
          "execution_count": 60
        }
      ]
    },
    {
      "cell_type": "code",
      "metadata": {
        "id": "vzFU8WNNUh6D",
        "colab_type": "code",
        "colab": {}
      },
      "source": [
        "from keras.layers import Dense, Conv2D, Flatten,MaxPooling2D,Dropout,Activation,BatchNormalization\n",
        "from keras.models import Sequential\n",
        "from keras.utils import np_utils\n",
        "from keras import regularizers"
      ],
      "execution_count": 0,
      "outputs": []
    },
    {
      "cell_type": "code",
      "metadata": {
        "id": "oDevR2hrUh6E",
        "colab_type": "code",
        "colab": {}
      },
      "source": [
        "\n",
        "# normalize inputs from 0-255 to 0.0-1.0\n",
        "train_image = train_image.astype('float32')\n",
        "test_image = test_image.astype('float32')\n",
        "train_image = train_image / 255.0\n",
        "test_image= test_image/ 255.0"
      ],
      "execution_count": 0,
      "outputs": []
    },
    {
      "cell_type": "code",
      "metadata": {
        "id": "1Vv3CO2xm3uy",
        "colab_type": "code",
        "colab": {}
      },
      "source": [
        "# one-hot encoding\n",
        "train_labels = np_utils.to_categorical(train_labels)\n",
        "test_labels = np_utils.to_categorical(test_labels)\n",
        "num_classes = test_labels.shape[1]"
      ],
      "execution_count": 0,
      "outputs": []
    },
    {
      "cell_type": "code",
      "metadata": {
        "id": "fisaOzrbUh6F",
        "colab_type": "code",
        "colab": {}
      },
      "source": [
        "weight_decay_rate = 0.01\n",
        "model = Sequential()\n",
        "model.add(Conv2D(32, (3,3),padding='same', kernel_regularizer=regularizers.l2(weight_decay_rate), input_shape=(32,32,3)))\n",
        "model.add(Activation('relu'))\n",
        "model.add(BatchNormalization())\n",
        "model.add(Conv2D(32, (3,3), padding='same', kernel_regularizer=regularizers.l2(weight_decay_rate)))\n",
        "model.add(Activation('relu'))\n",
        "model.add(BatchNormalization())\n",
        "model.add(MaxPooling2D(pool_size=(2,2)))\n",
        "model.add(Dropout(0.2))\n",
        " \n",
        "model.add(Conv2D(64, (3,3), padding='same', kernel_regularizer=regularizers.l2(weight_decay_rate)))\n",
        "model.add(Activation('relu'))\n",
        "model.add(BatchNormalization())\n",
        "model.add(Conv2D(64, (3,3), padding='same', kernel_regularizer=regularizers.l2(weight_decay_rate)))\n",
        "model.add(Activation('relu'))\n",
        "model.add(BatchNormalization())\n",
        "model.add(MaxPooling2D(pool_size=(2,2)))\n",
        "model.add(Dropout(0.3))\n",
        " \n",
        "model.add(Conv2D(128, (3,3), padding='same', kernel_regularizer=regularizers.l2(weight_decay_rate)))\n",
        "model.add(Activation('relu'))\n",
        "model.add(BatchNormalization())\n",
        "model.add(Conv2D(128, (3,3), padding='same', kernel_regularizer=regularizers.l2(weight_decay_rate)))\n",
        "model.add(Activation('relu'))\n",
        "model.add(BatchNormalization())\n",
        "model.add(Conv2D(128, (3,3), padding='same', kernel_regularizer=regularizers.l2(weight_decay_rate)))\n",
        "model.add(Activation('relu'))\n",
        "model.add(MaxPooling2D(pool_size=(2,2)))\n",
        "model.add(Dropout(0.4))\n",
        " \n",
        "model.add(Flatten())\n",
        "model.add(Dense(num_classes, activation='softmax'))\n",
        "model.compile(loss='sparse_categorical_crossentropy',optimizer='adam', metrics=['acc'])"
      ],
      "execution_count": 0,
      "outputs": []
    },
    {
      "cell_type": "code",
      "metadata": {
        "id": "s84MKW3JUh6G",
        "colab_type": "code",
        "colab": {}
      },
      "source": [
        " train_image, test_image, train_labels, test_labels = train_test_split(viewable_images, labels)"
      ],
      "execution_count": 0,
      "outputs": []
    },
    {
      "cell_type": "code",
      "metadata": {
        "id": "TADogwtZUh6H",
        "colab_type": "code",
        "colab": {
          "base_uri": "https://localhost:8080/",
          "height": 34
        },
        "outputId": "18e5c31e-e82d-4cf9-b3b8-dcc91c2b91b3"
      },
      "source": [
        "train_image.shape"
      ],
      "execution_count": 138,
      "outputs": [
        {
          "output_type": "execute_result",
          "data": {
            "text/plain": [
              "(7500, 32, 32, 3)"
            ]
          },
          "metadata": {
            "tags": []
          },
          "execution_count": 138
        }
      ]
    },
    {
      "cell_type": "code",
      "metadata": {
        "id": "YelUG-hqUh6J",
        "colab_type": "code",
        "colab": {
          "base_uri": "https://localhost:8080/",
          "height": 731
        },
        "outputId": "e6ac85f2-4a5d-4943-8d09-e82a5672d59a"
      },
      "source": [
        "\n",
        "model.fit(train_image, train_labels,validation_data=(test_image,test_labels) ,epochs=20,batch_size=45)"
      ],
      "execution_count": 165,
      "outputs": [
        {
          "output_type": "stream",
          "text": [
            "Train on 7500 samples, validate on 2500 samples\n",
            "Epoch 1/20\n",
            "7500/7500 [==============================] - 2s 330us/step - loss: 1.3190 - acc: 0.7641 - val_loss: 1.5792 - val_acc: 0.6712\n",
            "Epoch 2/20\n",
            "7500/7500 [==============================] - 2s 319us/step - loss: 1.2449 - acc: 0.7755 - val_loss: 1.5957 - val_acc: 0.6664\n",
            "Epoch 3/20\n",
            "7500/7500 [==============================] - 2s 319us/step - loss: 1.2635 - acc: 0.7617 - val_loss: 5.9295 - val_acc: 0.1876\n",
            "Epoch 4/20\n",
            "7500/7500 [==============================] - 2s 320us/step - loss: 1.2879 - acc: 0.7617 - val_loss: 1.5661 - val_acc: 0.6844\n",
            "Epoch 5/20\n",
            "7500/7500 [==============================] - 2s 319us/step - loss: 1.2663 - acc: 0.7635 - val_loss: 1.6211 - val_acc: 0.6744\n",
            "Epoch 6/20\n",
            "7500/7500 [==============================] - 2s 321us/step - loss: 1.2874 - acc: 0.7584 - val_loss: 1.5850 - val_acc: 0.6720\n",
            "Epoch 7/20\n",
            "7500/7500 [==============================] - 2s 322us/step - loss: 1.2793 - acc: 0.7652 - val_loss: 1.6484 - val_acc: 0.6644\n",
            "Epoch 8/20\n",
            "7500/7500 [==============================] - 2s 332us/step - loss: 1.2672 - acc: 0.7716 - val_loss: 1.5733 - val_acc: 0.6688\n",
            "Epoch 9/20\n",
            "7500/7500 [==============================] - 2s 327us/step - loss: 1.2578 - acc: 0.7733 - val_loss: 1.6778 - val_acc: 0.6460\n",
            "Epoch 10/20\n",
            "7500/7500 [==============================] - 2s 322us/step - loss: 1.2439 - acc: 0.7772 - val_loss: 1.6902 - val_acc: 0.6612\n",
            "Epoch 11/20\n",
            "7500/7500 [==============================] - 2s 320us/step - loss: 1.2280 - acc: 0.7795 - val_loss: 1.6646 - val_acc: 0.6560\n",
            "Epoch 12/20\n",
            "7500/7500 [==============================] - 2s 319us/step - loss: 1.2378 - acc: 0.7768 - val_loss: 1.8050 - val_acc: 0.6116\n",
            "Epoch 13/20\n",
            "7500/7500 [==============================] - 2s 322us/step - loss: 1.2443 - acc: 0.7785 - val_loss: 1.9959 - val_acc: 0.5756\n",
            "Epoch 14/20\n",
            "7500/7500 [==============================] - 2s 320us/step - loss: 1.2271 - acc: 0.7868 - val_loss: 1.7533 - val_acc: 0.6400\n",
            "Epoch 15/20\n",
            "7500/7500 [==============================] - 2s 324us/step - loss: 1.2036 - acc: 0.7893 - val_loss: 1.5343 - val_acc: 0.7004\n",
            "Epoch 16/20\n",
            "7500/7500 [==============================] - 2s 321us/step - loss: 1.1934 - acc: 0.7933 - val_loss: 1.7480 - val_acc: 0.6288\n",
            "Epoch 17/20\n",
            "7500/7500 [==============================] - 2s 319us/step - loss: 1.1969 - acc: 0.7876 - val_loss: 1.6011 - val_acc: 0.6888\n",
            "Epoch 18/20\n",
            "7500/7500 [==============================] - 2s 319us/step - loss: 1.1936 - acc: 0.7896 - val_loss: 1.6743 - val_acc: 0.6584\n",
            "Epoch 19/20\n",
            "7500/7500 [==============================] - 2s 318us/step - loss: 1.1978 - acc: 0.7927 - val_loss: 1.5255 - val_acc: 0.6992\n",
            "Epoch 20/20\n",
            "7500/7500 [==============================] - 2s 318us/step - loss: 1.1738 - acc: 0.7967 - val_loss: 1.6911 - val_acc: 0.6544\n"
          ],
          "name": "stdout"
        },
        {
          "output_type": "execute_result",
          "data": {
            "text/plain": [
              "<keras.callbacks.History at 0x7f2333d90ef0>"
            ]
          },
          "metadata": {
            "tags": []
          },
          "execution_count": 165
        }
      ]
    },
    {
      "cell_type": "code",
      "metadata": {
        "id": "UHRf908FUh6K",
        "colab_type": "code",
        "colab": {
          "base_uri": "https://localhost:8080/",
          "height": 34
        },
        "outputId": "a677672f-017f-4ff2-a7b7-f7eb6ca51b02"
      },
      "source": [
        "model.predict(test_image[5:10]).argmax(axis=0)"
      ],
      "execution_count": 131,
      "outputs": [
        {
          "output_type": "execute_result",
          "data": {
            "text/plain": [
              "array([0, 0, 3, 1, 1, 4, 1, 4, 0, 4])"
            ]
          },
          "metadata": {
            "tags": []
          },
          "execution_count": 131
        }
      ]
    },
    {
      "cell_type": "code",
      "metadata": {
        "id": "Avd8_f_4Uh6M",
        "colab_type": "code",
        "colab": {}
      },
      "source": [
        "def show_image(image_1d_vector):\n",
        "    print(image_1d_vector.shape)\n",
        "    plt.imshow(np.stack([image_1d_vector[:1024].reshape(32, 32), \n",
        "                         image_1d_vector[1024:2*1024].reshape(32, 32), \n",
        "                         image_1d_vector[2*1024:].reshape(32, 32)], axis=-1))"
      ],
      "execution_count": 0,
      "outputs": []
    },
    {
      "cell_type": "code",
      "metadata": {
        "id": "HpM_uojOUh6N",
        "colab_type": "code",
        "colab": {
          "base_uri": "https://localhost:8080/",
          "height": 286
        },
        "outputId": "8a65e491-61a2-4b12-bb85-dc540f7b9190"
      },
      "source": [
        "plt.imshow(test_image[0])"
      ],
      "execution_count": 135,
      "outputs": [
        {
          "output_type": "execute_result",
          "data": {
            "text/plain": [
              "<matplotlib.image.AxesImage at 0x7f235d382e48>"
            ]
          },
          "metadata": {
            "tags": []
          },
          "execution_count": 135
        },
        {
          "output_type": "display_data",
          "data": {
            "image/png": "[encoded data removed]",
            "text/plain": [
              "<Figure size 432x288 with 1 Axes>"
            ]
          },
          "metadata": {
            "tags": []
          }
        }
      ]
    },
    {
      "cell_type": "code",
      "metadata": {
        "id": "D_6wdLACUh6O",
        "colab_type": "code",
        "colab": {
          "base_uri": "https://localhost:8080/",
          "height": 187
        },
        "outputId": "e12764f6-973e-4c4d-9b9c-3c36f35a81c5"
      },
      "source": [
        "unpickle('batches.meta')[b'label_names']"
      ],
      "execution_count": 115,
      "outputs": [
        {
          "output_type": "execute_result",
          "data": {
            "text/plain": [
              "[b'airplane',\n",
              " b'automobile',\n",
              " b'bird',\n",
              " b'cat',\n",
              " b'deer',\n",
              " b'dog',\n",
              " b'frog',\n",
              " b'horse',\n",
              " b'ship',\n",
              " b'truck']"
            ]
          },
          "metadata": {
            "tags": []
          },
          "execution_count": 115
        }
      ]
    },
    {
      "cell_type": "code",
      "metadata": {
        "id": "x1TUkWTRUh6R",
        "colab_type": "code",
        "colab": {}
      },
      "source": [
        ""
      ],
      "execution_count": 0,
      "outputs": []
    }
  ]
}